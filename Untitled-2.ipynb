{
 "cells": [
  {
   "cell_type": "code",
   "execution_count": 1,
   "metadata": {},
   "outputs": [
    {
     "ename": "ModuleNotFoundError",
     "evalue": "No module named 'cv2'",
     "output_type": "error",
     "traceback": [
      "\u001b[1;31m---------------------------------------------------------------------------\u001b[0m",
      "\u001b[1;31mModuleNotFoundError\u001b[0m                       Traceback (most recent call last)",
      "\u001b[1;32m~\\AppData\\Local\\Temp\\ipykernel_3644\\3140078293.py\u001b[0m in \u001b[0;36m<module>\u001b[1;34m\u001b[0m\n\u001b[1;32m----> 1\u001b[1;33m \u001b[1;32mimport\u001b[0m \u001b[0mcv2\u001b[0m\u001b[1;33m\u001b[0m\u001b[1;33m\u001b[0m\u001b[0m\n\u001b[0m\u001b[0;32m      2\u001b[0m \u001b[1;32mimport\u001b[0m \u001b[0mserial\u001b[0m\u001b[1;33m\u001b[0m\u001b[1;33m\u001b[0m\u001b[0m\n\u001b[0;32m      3\u001b[0m \u001b[1;32mimport\u001b[0m \u001b[0mtime\u001b[0m\u001b[1;33m\u001b[0m\u001b[1;33m\u001b[0m\u001b[0m\n\u001b[0;32m      4\u001b[0m \u001b[1;33m\u001b[0m\u001b[0m\n\u001b[0;32m      5\u001b[0m \u001b[1;31m# إعداد الاتصال مع Arduino\u001b[0m\u001b[1;33m\u001b[0m\u001b[1;33m\u001b[0m\u001b[0m\n",
      "\u001b[1;31mModuleNotFoundError\u001b[0m: No module named 'cv2'"
     ]
    }
   ],
   "source": [
    "import cv2\n",
    "import serial\n",
    "import time\n",
    "\n",
    "# إعداد الاتصال مع Arduino\n",
    "arduino = serial.Serial('COM22', 115200)  \n",
    "time.sleep(2) \n",
    "\n",
    "colors = {\n",
    "    \"red\": ((0, 120, 70), (10, 255, 255)),      \n",
    "    \"green\": ((40, 50, 50), (90, 255, 255)),    \n",
    "    \"yellow\": ((20, 100, 100), (30, 255, 255))  \n",
    "}\n",
    "\n",
    "cap = cv2.VideoCapture(0) \n",
    "\n",
    "\n",
    "\n",
    "frame_count = 0  \n",
    "\n",
    "while True:\n",
    "    ret, frame = cap.read()\n",
    "    if not ret:\n",
    "        print(\"Error: Can't access the camera.\")\n",
    "        break\n",
    "\n",
    "    # تخطي نصف الإطارات لتحسين الأداء\n",
    "    if frame_count % 2 == 0:\n",
    "        # تقليل حجم الصورة لمزيد من السرعة\n",
    "        small_frame = cv2.resize(frame, (160, 120))  # تصغير الإطار\n",
    "        hsv = cv2.cvtColor(small_frame, cv2.COLOR_BGR2HSV)\n",
    "\n",
    "        detected_color = None  # لتحديد اللون الذي تم اكتشافه\n",
    "\n",
    "        for color_name, (lower, upper) in colors.items():\n",
    "            mask = cv2.inRange(hsv, lower, upper)\n",
    "            contours, _ = cv2.findContours(mask, cv2.RETR_TREE, cv2.CHAIN_APPROX_SIMPLE)\n",
    "\n",
    "            for contour in contours:\n",
    "                area = cv2.contourArea(contour)\n",
    "                if area > 500:  # تجاهل الأجسام الصغيرة\n",
    "                    detected_color = color_name\n",
    "                    print(f\"Detected: {detected_color}\")\n",
    "\n",
    "                    # إرسال اللون إلى Arduino\n",
    "                    arduino.write(detected_color.encode())\n",
    "                    \n",
    "                    # رسم مستطيل حول الكائن المكتشف\n",
    "                    x, y, w, h = cv2.boundingRect(contour)\n",
    "                    cv2.rectangle(frame, (x*2, y*2), (x*2 + w*2, y*2 + h*2), (0, 255, 0), 2)\n",
    "                    cv2.putText(frame, detected_color, (x*2, y*2 - 10), cv2.FONT_HERSHEY_SIMPLEX, 0.7, (0, 255, 0), 2)\n",
    "\n",
    "        # عرض الفيديو مع تحسين الأداء\n",
    "        cv2.imshow(\"Color Detection\", frame)\n",
    "\n",
    "    frame_count += 1  # زيادة عداد الإطارات\n",
    "\n",
    "    # الخروج عند الضغط على \"q\"\n",
    "    if cv2.waitKey(1) & 0xFF == ord('q'):\n",
    "        break\n",
    "\n",
    "# إغلاق الكاميرا والاتصال\n",
    "cap.release()\n",
    "cv2.destroyAllWindows()"
   ]
  },
  {
   "cell_type": "code",
   "execution_count": null,
   "metadata": {},
   "outputs": [],
   "source": [
    "pip install opencv-python"
   ]
  },
  {
   "cell_type": "code",
   "execution_count": null,
   "metadata": {},
   "outputs": [],
   "source": [
    "pip install serial"
   ]
  },
  {
   "cell_type": "code",
   "execution_count": null,
   "metadata": {},
   "outputs": [],
   "source": []
  }
 ],
 "metadata": {
  "kernelspec": {
   "display_name": "Python 3 (ipykernel)",
   "language": "python",
   "name": "python3"
  },
  "language_info": {
   "codemirror_mode": {
    "name": "ipython",
    "version": 3
   },
   "file_extension": ".py",
   "mimetype": "text/x-python",
   "name": "python",
   "nbconvert_exporter": "python",
   "pygments_lexer": "ipython3",
   "version": "3.9.13"
  }
 },
 "nbformat": 4,
 "nbformat_minor": 2
}
